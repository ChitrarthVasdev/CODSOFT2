{
  "nbformat": 4,
  "nbformat_minor": 0,
  "metadata": {
    "colab": {
      "provenance": [],
      "authorship_tag": "ABX9TyPEabx2zj+/drRYqD1Orx8Q",
      "include_colab_link": true
    },
    "kernelspec": {
      "name": "python3",
      "display_name": "Python 3"
    },
    "language_info": {
      "name": "python"
    }
  },
  "cells": [
    {
      "cell_type": "markdown",
      "metadata": {
        "id": "view-in-github",
        "colab_type": "text"
      },
      "source": [
        "<a href=\"https://colab.research.google.com/github/ChitrarthVasdev/CODSOFT2/blob/main/movierecommend.ipynb\" target=\"_parent\"><img src=\"https://colab.research.google.com/assets/colab-badge.svg\" alt=\"Open In Colab\"/></a>"
      ]
    },
    {
      "cell_type": "code",
      "source": [
        "import pandas as pd\n",
        "from sklearn.feature_extraction.text import TfidfVectorizer\n",
        "from sklearn.metrics.pairwise import cosine_similarity\n",
        "\n",
        "movies_df = pd.read_csv('/content/imdb_top_1000.csv')\n",
        "\n",
        "# Keep and clean relevant columns\n",
        "movies = movies_df[['Series_Title', 'Genre']].copy()\n",
        "movies.columns = ['title', 'genres']\n",
        "movies.dropna(subset=['genres'], inplace=True)\n",
        "\n",
        "# Normalize titles for case-insensitive matching\n",
        "movies['title_lower'] = movies['title'].str.lower()\n",
        "\n",
        "# TF-IDF Vectorization on genres\n",
        "tfidf = TfidfVectorizer(stop_words='english')\n",
        "tfidf_matrix = tfidf.fit_transform(movies['genres'])\n",
        "\n",
        "# Compute cosine similarity matrix\n",
        "cosine_sim = cosine_similarity(tfidf_matrix, tfidf_matrix)\n",
        "\n",
        "# Title-to-index mapping (using lowercase titles)\n",
        "indices = pd.Series(movies.index, index=movies['title_lower']).drop_duplicates()\n",
        "\n",
        "# Recommendation function with case-insensitive input\n",
        "def get_recommendations(title, top_n=10):\n",
        "    title_lower = title.lower()\n",
        "    if title_lower not in indices:\n",
        "        raise ValueError(f\"❌ Movie '{title}' not found in the dataset. Please check the spelling.\")\n",
        "\n",
        "    idx = indices[title_lower]\n",
        "    sim_scores = list(enumerate(cosine_sim[idx]))\n",
        "    sim_scores = sorted(sim_scores, key=lambda x: x[1], reverse=True)\n",
        "    sim_scores = sim_scores[1:top_n+1]\n",
        "    movie_indices = [i[0] for i in sim_scores]\n",
        "    return movies['title'].iloc[movie_indices].tolist()\n",
        "\n",
        "# Main program with user input\n",
        "if __name__ == \"__main__\":\n",
        "    print(\"🎬 Welcome to the Movie Recommendation System!\")\n",
        "    try:\n",
        "        user_input = input(\"Enter a movie title: \").strip()\n",
        "        recommendations = get_recommendations(user_input)\n",
        "\n",
        "        print(f\"\\nTop recommendations similar to '{user_input}':\")\n",
        "        for i, movie in enumerate(recommendations, 1):\n",
        "            print(f\"{i}. {movie}\")\n",
        "    except ValueError as e:\n",
        "        print(e)\n"
      ],
      "metadata": {
        "colab": {
          "base_uri": "https://localhost:8080/"
        },
        "id": "-Qt4rsC_eOPA",
        "outputId": "eb5bfa85-8d32-4035-99d7-a0d039787f14"
      },
      "execution_count": 14,
      "outputs": [
        {
          "output_type": "stream",
          "name": "stdout",
          "text": [
            "🎬 Welcome to the Movie Recommendation System!\n",
            "Enter a movie title: star wars\n",
            "\n",
            "Top recommendations similar to 'star wars':\n",
            "1. Star Wars\n",
            "2. Star Wars: Episode VI - Return of the Jedi\n",
            "3. Pirates of the Caribbean: The Curse of the Black Pearl\n",
            "4. Avatar\n",
            "5. Wo hu cang long\n",
            "6. The Hobbit: The Desolation of Smaug\n",
            "7. The Hobbit: An Unexpected Journey\n",
            "8. Harry Potter and the Deathly Hallows: Part 2\n",
            "9. Big Fish\n",
            "10. The Fall\n"
          ]
        }
      ]
    }
  ]
}