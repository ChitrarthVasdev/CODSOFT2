{
  "nbformat": 4,
  "nbformat_minor": 0,
  "metadata": {
    "colab": {
      "provenance": [],
      "authorship_tag": "ABX9TyMn+SmxTV8kf6+a1NRbyzMw",
      "include_colab_link": true
    },
    "kernelspec": {
      "name": "python3",
      "display_name": "Python 3"
    },
    "language_info": {
      "name": "python"
    }
  },
  "cells": [
    {
      "cell_type": "markdown",
      "metadata": {
        "id": "view-in-github",
        "colab_type": "text"
      },
      "source": [
        "<a href=\"https://colab.research.google.com/github/ChitrarthVasdev/CODSOFT2/blob/main/movierecommend.ipynb\" target=\"_parent\"><img src=\"https://colab.research.google.com/assets/colab-badge.svg\" alt=\"Open In Colab\"/></a>"
      ]
    },
    {
      "cell_type": "markdown",
      "source": [
        "TASK 4 : RECOMMENDATION SYSTEM (MOVIES)\n",
        "\n",
        "DOMAIN : ARTIFICIAL INTELLIGENCE\n",
        "\n",
        "LANGUAGE : PYTHON"
      ],
      "metadata": {
        "id": "vGIZduvmp5xb"
      }
    },
    {
      "cell_type": "code",
      "source": [
        "import pandas as pd\n",
        "from sklearn.feature_extraction.text import TfidfVectorizer\n",
        "from sklearn.metrics.pairwise import cosine_similarity\n",
        "\n",
        "movies_df = pd.read_csv('/content/imdb_top_1000.csv')\n",
        "print(movies_df.head())\n"
      ],
      "metadata": {
        "colab": {
          "base_uri": "https://localhost:8080/"
        },
        "id": "-Qt4rsC_eOPA",
        "outputId": "3897429d-713e-4c6a-f26e-bee56154f809"
      },
      "execution_count": null,
      "outputs": [
        {
          "output_type": "stream",
          "name": "stdout",
          "text": [
            "                                         Poster_Link  \\\n",
            "0  https://m.media-amazon.com/images/M/MV5BMDFkYT...   \n",
            "1  https://m.media-amazon.com/images/M/MV5BM2MyNj...   \n",
            "2  https://m.media-amazon.com/images/M/MV5BMTMxNT...   \n",
            "3  https://m.media-amazon.com/images/M/MV5BMWMwMG...   \n",
            "4  https://m.media-amazon.com/images/M/MV5BMWU4N2...   \n",
            "\n",
            "               Series_Title Released_Year Certificate  Runtime  \\\n",
            "0  The Shawshank Redemption          1994           A  142 min   \n",
            "1             The Godfather          1972           A  175 min   \n",
            "2           The Dark Knight          2008          UA  152 min   \n",
            "3    The Godfather: Part II          1974           A  202 min   \n",
            "4              12 Angry Men          1957           U   96 min   \n",
            "\n",
            "                  Genre  IMDB_Rating  \\\n",
            "0                 Drama          9.3   \n",
            "1          Crime, Drama          9.2   \n",
            "2  Action, Crime, Drama          9.0   \n",
            "3          Crime, Drama          9.0   \n",
            "4          Crime, Drama          9.0   \n",
            "\n",
            "                                            Overview  Meta_score  \\\n",
            "0  Two imprisoned men bond over a number of years...        80.0   \n",
            "1  An organized crime dynasty's aging patriarch t...       100.0   \n",
            "2  When the menace known as the Joker wreaks havo...        84.0   \n",
            "3  The early life and career of Vito Corleone in ...        90.0   \n",
            "4  A jury holdout attempts to prevent a miscarria...        96.0   \n",
            "\n",
            "               Director           Star1           Star2          Star3  \\\n",
            "0        Frank Darabont     Tim Robbins  Morgan Freeman     Bob Gunton   \n",
            "1  Francis Ford Coppola   Marlon Brando       Al Pacino     James Caan   \n",
            "2     Christopher Nolan  Christian Bale    Heath Ledger  Aaron Eckhart   \n",
            "3  Francis Ford Coppola       Al Pacino  Robert De Niro  Robert Duvall   \n",
            "4          Sidney Lumet     Henry Fonda     Lee J. Cobb  Martin Balsam   \n",
            "\n",
            "            Star4  No_of_Votes        Gross  \n",
            "0  William Sadler      2343110   28,341,469  \n",
            "1    Diane Keaton      1620367  134,966,411  \n",
            "2   Michael Caine      2303232  534,858,444  \n",
            "3    Diane Keaton      1129952   57,300,000  \n",
            "4    John Fiedler       689845    4,360,000  \n"
          ]
        }
      ]
    },
    {
      "cell_type": "code",
      "source": [
        "# Keep and clean relevant columns\n",
        "movies = movies_df[['Series_Title', 'Genre']].copy()\n",
        "movies.columns = ['title', 'genres']\n",
        "movies.dropna(subset=['genres'], inplace=True)\n",
        "\n",
        "# Normalize titles for case-insensitive matching\n",
        "movies['title_lower'] = movies['title'].str.lower()\n",
        "\n",
        "# TF-IDF Vectorization on genres\n",
        "tfidf = TfidfVectorizer(stop_words='english')\n",
        "tfidf_matrix = tfidf.fit_transform(movies['genres'])\n",
        "\n",
        "# Compute cosine similarity matrix\n",
        "cosine_sim = cosine_similarity(tfidf_matrix, tfidf_matrix)\n",
        "\n",
        "# Title-to-index mapping (using lowercase titles)\n",
        "indices = pd.Series(movies.index, index=movies['title_lower']).drop_duplicates()\n",
        "\n",
        "# Recommendation function with case-insensitive input\n",
        "def get_recommendations(title, top_n=10):\n",
        "    title_lower = title.lower()\n",
        "    if title_lower not in indices:\n",
        "        raise ValueError(f\"❌ Movie '{title}' not found in the dataset. Please check the spelling.\")\n",
        "\n",
        "    idx = indices[title_lower]\n",
        "    sim_scores = list(enumerate(cosine_sim[idx]))\n",
        "    sim_scores = sorted(sim_scores, key=lambda x: x[1], reverse=True)\n",
        "    sim_scores = sim_scores[1:top_n+1]\n",
        "    movie_indices = [i[0] for i in sim_scores]\n",
        "    return movies['title'].iloc[movie_indices].tolist()\n",
        "\n",
        "# Main program with user input\n",
        "if __name__ == \"__main__\":\n",
        "    print(\"🎬 Welcome to the Movie Recommendation System!\")\n",
        "    try:\n",
        "        user_input = input(\"Enter a movie title: \").strip()\n",
        "        recommendations = get_recommendations(user_input)\n",
        "\n",
        "        print(f\"\\nTop recommendations similar to '{user_input}':\")\n",
        "        for i, movie in enumerate(recommendations, 1):\n",
        "            print(f\"{i}. {movie}\")\n",
        "    except ValueError as e:\n",
        "        print(e)\n"
      ],
      "metadata": {
        "colab": {
          "base_uri": "https://localhost:8080/"
        },
        "id": "ekMGU1x9ICK8",
        "outputId": "e637856f-8975-4624-8af6-c182ea50ccd3"
      },
      "execution_count": 10,
      "outputs": [
        {
          "output_type": "stream",
          "name": "stdout",
          "text": [
            "🎬 Welcome to the Movie Recommendation System!\n",
            "Enter a movie title: joker\n",
            "\n",
            "Top recommendations similar to 'joker':\n",
            "1. Joker\n",
            "2. The Departed\n",
            "3. Drishyam\n",
            "4. Reservoir Dogs\n",
            "5. Eskiya\n",
            "6. Heat\n",
            "7. Du rififi chez les hommes\n",
            "8. No Country for Old Men\n",
            "9. Fargo\n",
            "10. On the Waterfront\n"
          ]
        }
      ]
    }
  ]
}